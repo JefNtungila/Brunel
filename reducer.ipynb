{
  "nbformat": 4,
  "nbformat_minor": 0,
  "metadata": {
    "colab": {
      "name": "reducer.ipynb",
      "provenance": [],
      "collapsed_sections": [],
      "authorship_tag": "ABX9TyPzk0aCJzjV4SyEv87YsVIf",
      "include_colab_link": true
    },
    "kernelspec": {
      "name": "python3",
      "display_name": "Python 3"
    },
    "language_info": {
      "name": "python"
    }
  },
  "cells": [
    {
      "cell_type": "markdown",
      "metadata": {
        "id": "view-in-github",
        "colab_type": "text"
      },
      "source": [
        "<a href=\"https://colab.research.google.com/github/JefNtungila/Brunel/blob/main/reducer.ipynb\" target=\"_parent\"><img src=\"https://colab.research.google.com/assets/colab-badge.svg\" alt=\"Open In Colab\"/></a>"
      ]
    },
    {
      "cell_type": "code",
      "metadata": {
        "id": "Hi4DHeLbO9Kh"
      },
      "source": [
        "from operator import itemgetter\n",
        "import sys\n",
        "\n",
        "current_word = None\n",
        "current_count = 0\n",
        "word = None\n",
        "\n",
        "#tracking individual tokens\n",
        "for line in sys.stdin:\n",
        "    # removing whitespaces from documents\n",
        "    line = line.strip()\n",
        "    #converting all tokens to lower case\n",
        "    line=line.lower()\n",
        "\n",
        "    # shuffle and sorting of tokens\n",
        "    word, count = line.split('\\t', 1)\n",
        "    try:\n",
        "      count = int(count)\n",
        "    except ValueError:\n",
        "      #error handling of count not being a number\n",
        "      continue\n",
        "\n",
        "    #for word, count pairs if a words has already been seen add one to the count\n",
        "    #for word, count pairs if a words has not yet been seen add one\n",
        "    if current_word == word:\n",
        "        current_count += count\n",
        "    else:\n",
        "        if current_word:\n",
        "            print ('%s\\t%s' % (current_word, current_count))\n",
        "        #final value is total count\n",
        "        #  final key is word  \n",
        "        current_count = count\n",
        "        current_word = word\n",
        "\n",
        "# printing out the final word, count value pairs\n",
        "if current_word == word:\n",
        "    print( '%s\\t%s' % (current_word, current_count))"
      ],
      "execution_count": null,
      "outputs": []
    }
  ]
}