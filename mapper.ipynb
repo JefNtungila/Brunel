{
  "nbformat": 4,
  "nbformat_minor": 0,
  "metadata": {
    "colab": {
      "name": "mapper.ipynb",
      "provenance": [],
      "collapsed_sections": [],
      "authorship_tag": "ABX9TyMEangXDGTq2oWNPWCsSDTa",
      "include_colab_link": true
    },
    "kernelspec": {
      "name": "python3",
      "display_name": "Python 3"
    },
    "language_info": {
      "name": "python"
    }
  },
  "cells": [
    {
      "cell_type": "markdown",
      "metadata": {
        "id": "view-in-github",
        "colab_type": "text"
      },
      "source": [
        "<a href=\"https://colab.research.google.com/github/JefNtungila/Brunel/blob/main/mapper.ipynb\" target=\"_parent\"><img src=\"https://colab.research.google.com/assets/colab-badge.svg\" alt=\"Open In Colab\"/></a>"
      ]
    },
    {
      "cell_type": "code",
      "metadata": {
        "id": "cuS8kOxkVSlx"
      },
      "source": [
        "import sys\n",
        "import io\n",
        "import re\n",
        "import nltk\n",
        "nltk.download('stopwords',quiet=True)\n",
        "from nltk.corpus import stopwords\n",
        "punctuations = '''!()-[]{};:'\"\\,<>./?@#$%^&*_~'''\n",
        "\n",
        "#creating a set of stopwords \n",
        "stop_words = set(stopwords.words('english'))\n",
        "\n",
        "#tracking the individual words and setting them as input\n",
        "input_stream = io.TextIOWrapper(sys.stdin.buffer, encoding='latin1')\n",
        "\n",
        "\n",
        "for line in input_stream:\n",
        "\n",
        "  #splitting the input tweets/docs into tokens\n",
        "  line = line.strip()\n",
        "  #cleaning the tokens by keeping common tokens\n",
        "  line = re.sub(r'[^\\w\\s]', '',line)\n",
        "  #converting all characters to lower case\n",
        "  line = line.lower()\n",
        "  #removing punctuation\n",
        "  for x in line:\n",
        "    if x in punctuations:\n",
        "      line=line.replace(x, \" \") \n",
        "\n",
        "  #removing stopwords \n",
        "  #storing the processed docs \n",
        "  words=line.split()\n",
        "  for word in words: \n",
        "    if word not in stop_words:\n",
        "      print('%s\\t%s' % (word, 1))"
      ],
      "execution_count": null,
      "outputs": []
    }
  ]
}